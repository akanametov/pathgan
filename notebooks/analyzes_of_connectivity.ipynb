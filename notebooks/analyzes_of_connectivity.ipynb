{
 "cells": [
  {
   "cell_type": "code",
   "execution_count": 2,
   "metadata": {},
   "outputs": [],
   "source": [
    "import sys\n",
    "import os\n",
    "sys.path.append(os.path.dirname(os.getcwd()))"
   ]
  },
  {
   "cell_type": "code",
   "execution_count": 4,
   "metadata": {},
   "outputs": [],
   "source": [
    "import cv2\n",
    "import numpy as np\n",
    "import pandas as pd\n",
    "from pathgan.utils import rgb2binary\n",
    "import matplotlib.pyplot as plt\n",
    "from tqdm.notebook import tqdm\n",
    "from PIL import Image, ImageDraw\n",
    "import os\n",
    "import re\n",
    "import glob\n",
    "import sys\n",
    "from  pathlib import Path\n",
    "from collections import deque\n",
    "from pathgan.models.rrt import RRT"
   ]
  },
  {
   "cell_type": "code",
   "execution_count": 2,
   "metadata": {},
   "outputs": [],
   "source": [
    "dataset_path = 'data/generated_dataset/dataset/'\n",
    "data_path = 'data/generated_dataset/'"
   ]
  },
  {
   "cell_type": "code",
   "execution_count": 3,
   "metadata": {},
   "outputs": [
    {
     "data": {
      "text/plain": [
       "['./PathGAN/data/dataset/results\\\\roi_0.png',\n",
       " './PathGAN/data/dataset/results\\\\roi_1.png',\n",
       " './PathGAN/data/dataset/results\\\\roi_2.png']"
      ]
     },
     "execution_count": 3,
     "metadata": {},
     "output_type": "execute_result"
    }
   ],
   "source": [
    "roi_result_list = glob.glob(dataset_path + 'results/*.png')\n",
    "roi_result_list.sort(key = lambda s: int(re.search('\\d+', s).group()))\n",
    "roi_result_list[:3]"
   ]
  },
  {
   "cell_type": "code",
   "execution_count": 46,
   "metadata": {},
   "outputs": [
    {
     "data": {
      "text/html": [
       "<div>\n",
       "<style scoped>\n",
       "    .dataframe tbody tr th:only-of-type {\n",
       "        vertical-align: middle;\n",
       "    }\n",
       "\n",
       "    .dataframe tbody tr th {\n",
       "        vertical-align: top;\n",
       "    }\n",
       "\n",
       "    .dataframe thead th {\n",
       "        text-align: right;\n",
       "    }\n",
       "</style>\n",
       "<table border=\"1\" class=\"dataframe\">\n",
       "  <thead>\n",
       "    <tr style=\"text-align: right;\">\n",
       "      <th></th>\n",
       "      <th>true_roi</th>\n",
       "      <th>pred_roi</th>\n",
       "      <th>iou</th>\n",
       "      <th>fid</th>\n",
       "      <th>is</th>\n",
       "      <th>dice</th>\n",
       "    </tr>\n",
       "  </thead>\n",
       "  <tbody>\n",
       "    <tr>\n",
       "      <th>0</th>\n",
       "      <td>dataset/tasks/map_0/task_2_roi.png</td>\n",
       "      <td>results/roi_219.png</td>\n",
       "      <td>0.714286</td>\n",
       "      <td>44.443390</td>\n",
       "      <td>1.019218</td>\n",
       "      <td>0.833333</td>\n",
       "    </tr>\n",
       "    <tr>\n",
       "      <th>1</th>\n",
       "      <td>dataset/tasks/map_0/task_30_roi.png</td>\n",
       "      <td>results/roi_1410.png</td>\n",
       "      <td>0.655098</td>\n",
       "      <td>113.003944</td>\n",
       "      <td>1.019218</td>\n",
       "      <td>0.791612</td>\n",
       "    </tr>\n",
       "    <tr>\n",
       "      <th>2</th>\n",
       "      <td>dataset/tasks/map_0/task_32_roi.png</td>\n",
       "      <td>results/roi_1219.png</td>\n",
       "      <td>0.773879</td>\n",
       "      <td>80.301636</td>\n",
       "      <td>1.019218</td>\n",
       "      <td>0.872527</td>\n",
       "    </tr>\n",
       "    <tr>\n",
       "      <th>3</th>\n",
       "      <td>dataset/tasks/map_0/task_35_roi.png</td>\n",
       "      <td>results/roi_644.png</td>\n",
       "      <td>0.683135</td>\n",
       "      <td>69.818451</td>\n",
       "      <td>1.019218</td>\n",
       "      <td>0.811741</td>\n",
       "    </tr>\n",
       "    <tr>\n",
       "      <th>4</th>\n",
       "      <td>dataset/tasks/map_0/task_36_roi.png</td>\n",
       "      <td>results/roi_1972.png</td>\n",
       "      <td>0.724816</td>\n",
       "      <td>113.334282</td>\n",
       "      <td>1.019218</td>\n",
       "      <td>0.840456</td>\n",
       "    </tr>\n",
       "  </tbody>\n",
       "</table>\n",
       "</div>"
      ],
      "text/plain": [
       "                              true_roi              pred_roi       iou  \\\n",
       "0   dataset/tasks/map_0/task_2_roi.png   results/roi_219.png  0.714286   \n",
       "1  dataset/tasks/map_0/task_30_roi.png  results/roi_1410.png  0.655098   \n",
       "2  dataset/tasks/map_0/task_32_roi.png  results/roi_1219.png  0.773879   \n",
       "3  dataset/tasks/map_0/task_35_roi.png   results/roi_644.png  0.683135   \n",
       "4  dataset/tasks/map_0/task_36_roi.png  results/roi_1972.png  0.724816   \n",
       "\n",
       "          fid        is      dice  \n",
       "0   44.443390  1.019218  0.833333  \n",
       "1  113.003944  1.019218  0.791612  \n",
       "2   80.301636  1.019218  0.872527  \n",
       "3   69.818451  1.019218  0.811741  \n",
       "4  113.334282  1.019218  0.840456  "
      ]
     },
     "execution_count": 46,
     "metadata": {},
     "output_type": "execute_result"
    }
   ],
   "source": [
    "data = pd.read_csv(dataset_path + 'results/results.csv')\n",
    "data = data.sort_values(by=\"true_roi\").reset_index(drop=True)\n",
    "data.head()"
   ]
  },
  {
   "cell_type": "code",
   "execution_count": 5,
   "metadata": {},
   "outputs": [
    {
     "data": {
      "text/plain": [
       "'dataset/tasks/map_84'"
      ]
     },
     "execution_count": 5,
     "metadata": {},
     "output_type": "execute_result"
    }
   ],
   "source": [
    "#print(os.path.basename(your_path))\n",
    "os.path.dirname('dataset/tasks/map_84/task_99_roi.png')"
   ]
  },
  {
   "cell_type": "code",
   "execution_count": 6,
   "metadata": {},
   "outputs": [
    {
     "data": {
      "text/plain": [
       "'dataset/tasks/map_0/task_2_roi.png'"
      ]
     },
     "execution_count": 6,
     "metadata": {},
     "output_type": "execute_result"
    }
   ],
   "source": [
    "data.true_roi[0]"
   ]
  },
  {
   "cell_type": "code",
   "execution_count": 7,
   "metadata": {},
   "outputs": [
    {
     "data": {
      "text/plain": [
       "'dataset/tasks/map_0'"
      ]
     },
     "execution_count": 7,
     "metadata": {},
     "output_type": "execute_result"
    }
   ],
   "source": [
    "#re.search('.*\\/map\\_(\\d+)', data.true_roi[0]).group()\n",
    "#ouput 'dataset/tasks/map_0'\n",
    "map_file = os.path.dirname(data.true_roi[0])\n",
    "map_file"
   ]
  },
  {
   "cell_type": "code",
   "execution_count": 8,
   "metadata": {},
   "outputs": [
    {
     "data": {
      "text/html": [
       "<div>\n",
       "<style scoped>\n",
       "    .dataframe tbody tr th:only-of-type {\n",
       "        vertical-align: middle;\n",
       "    }\n",
       "\n",
       "    .dataframe tbody tr th {\n",
       "        vertical-align: top;\n",
       "    }\n",
       "\n",
       "    .dataframe thead th {\n",
       "        text-align: right;\n",
       "    }\n",
       "</style>\n",
       "<table border=\"1\" class=\"dataframe\">\n",
       "  <thead>\n",
       "    <tr style=\"text-align: right;\">\n",
       "      <th></th>\n",
       "      <th>istart</th>\n",
       "      <th>jstart</th>\n",
       "      <th>igoal</th>\n",
       "      <th>jgoal</th>\n",
       "      <th>euclid</th>\n",
       "    </tr>\n",
       "  </thead>\n",
       "  <tbody>\n",
       "    <tr>\n",
       "      <th>0</th>\n",
       "      <td>42</td>\n",
       "      <td>30</td>\n",
       "      <td>56</td>\n",
       "      <td>1</td>\n",
       "      <td>32.202484</td>\n",
       "    </tr>\n",
       "    <tr>\n",
       "      <th>1</th>\n",
       "      <td>2</td>\n",
       "      <td>12</td>\n",
       "      <td>34</td>\n",
       "      <td>62</td>\n",
       "      <td>59.363288</td>\n",
       "    </tr>\n",
       "    <tr>\n",
       "      <th>2</th>\n",
       "      <td>15</td>\n",
       "      <td>56</td>\n",
       "      <td>40</td>\n",
       "      <td>38</td>\n",
       "      <td>30.805844</td>\n",
       "    </tr>\n",
       "  </tbody>\n",
       "</table>\n",
       "</div>"
      ],
      "text/plain": [
       "   istart  jstart  igoal  jgoal     euclid\n",
       "0      42      30     56      1  32.202484\n",
       "1       2      12     34     62  59.363288\n",
       "2      15      56     40     38  30.805844"
      ]
     },
     "execution_count": 8,
     "metadata": {},
     "output_type": "execute_result"
    }
   ],
   "source": [
    "Tasks = pd.read_csv(data_path + map_file + '.csv')\n",
    "Tasks.head(3)"
   ]
  },
  {
   "cell_type": "code",
   "execution_count": 9,
   "metadata": {},
   "outputs": [
    {
     "data": {
      "text/plain": [
       "2"
      ]
     },
     "execution_count": 9,
     "metadata": {},
     "output_type": "execute_result"
    }
   ],
   "source": [
    "task_num = int(re.search('task\\_(\\d+)', os.path.basename(data.true_roi[0])).group(1))\n",
    "task_num"
   ]
  },
  {
   "cell_type": "code",
   "execution_count": 10,
   "metadata": {},
   "outputs": [],
   "source": [
    "start = (Tasks.istart[task_num], Tasks.jstart[task_num])\n",
    "goal = (Tasks.igoal[task_num], Tasks.jgoal[task_num])"
   ]
  },
  {
   "cell_type": "code",
   "execution_count": 11,
   "metadata": {},
   "outputs": [],
   "source": [
    "colors = {'start': np.array([0, 0, 1]), 'goal': np.array([1, 0, 0]), 'roi': np.array([0, 1, 0])}"
   ]
  },
  {
   "cell_type": "code",
   "execution_count": 12,
   "metadata": {},
   "outputs": [
    {
     "data": {
      "text/plain": [
       "'map_0'"
      ]
     },
     "execution_count": 12,
     "metadata": {},
     "output_type": "execute_result"
    }
   ],
   "source": [
    "Map = re.search('map\\_(\\d+)', data.true_roi[0]).group(0)\n",
    "Map"
   ]
  },
  {
   "cell_type": "code",
   "execution_count": 13,
   "metadata": {},
   "outputs": [],
   "source": [
    "Map_img = Image.open( dataset_path + 'maps/' + Map + '.png').convert('RGB')"
   ]
  },
  {
   "cell_type": "code",
   "execution_count": 14,
   "metadata": {},
   "outputs": [],
   "source": [
    "true_roi = Image.open(data_path + data.true_roi[0]).convert('RGB')"
   ]
  },
  {
   "cell_type": "code",
   "execution_count": 15,
   "metadata": {},
   "outputs": [],
   "source": [
    "pred_roi = Image.open(dataset_path + data.pred_roi[0]).convert('RGB')"
   ]
  },
  {
   "cell_type": "code",
   "execution_count": 16,
   "metadata": {},
   "outputs": [
    {
     "data": {
      "image/png": "[encoded data removed]",
      "text/plain": [
       "<Figure size 2400x2000 with 3 Axes>"
      ]
     },
     "metadata": {
      "needs_background": "light"
     },
     "output_type": "display_data"
    }
   ],
   "source": [
    "fig, ax = plt.subplots(ncols=3,  figsize=(12, 10), dpi=200)\n",
    "for axx, map_img in zip(ax.flatten(), [Map_img, true_roi, pred_roi]):\n",
    "    k = map_img.load()\n",
    "    k[int(start[1]), int(start[0])] = tuple(colors['start']*255)\n",
    "    k[int(goal[1]), int(goal[0])] = tuple(colors['goal']*255)\n",
    "    \n",
    "    axx.axes.xaxis.set_visible(False)\n",
    "    axx.axes.yaxis.set_visible(False)\n",
    "    axx.imshow(map_img);\n",
    "plt.tight_layout()"
   ]
  },
  {
   "cell_type": "code",
   "execution_count": 17,
   "metadata": {},
   "outputs": [],
   "source": [
    "pred_roi = Image.open(dataset_path + data.pred_roi[0]).convert('RGB')\n",
    "mask_grid = rgb2binary(np.array(pred_roi))\n",
    "mask_grid = np.where(np.sum(mask_grid, axis=2) > 2, 0, 1)"
   ]
  },
  {
   "cell_type": "code",
   "execution_count": 18,
   "metadata": {},
   "outputs": [
    {
     "data": {
      "image/png": "[encoded data removed]",
      "text/plain": [
       "<Figure size 900x600 with 1 Axes>"
      ]
     },
     "metadata": {
      "needs_background": "light"
     },
     "output_type": "display_data"
    }
   ],
   "source": [
    "fig, ax = plt.subplots(dpi=150)\n",
    "ax.axes.xaxis.set_visible(False)\n",
    "ax.axes.yaxis.set_visible(False)\n",
    "plt.imshow(mask_grid, cmap='gray');"
   ]
  },
  {
   "cell_type": "code",
   "execution_count": 19,
   "metadata": {},
   "outputs": [],
   "source": [
    "model = RRT()"
   ]
  },
  {
   "cell_type": "code",
   "execution_count": 20,
   "metadata": {},
   "outputs": [],
   "source": [
    "path = model.search(mask_grid, start, goal,  func='cdist')"
   ]
  },
  {
   "cell_type": "code",
   "execution_count": 21,
   "metadata": {},
   "outputs": [
    {
     "data": {
      "text/plain": [
       "[(40, 38),\n",
       " (39, 38),\n",
       " (35, 37),\n",
       " (33, 34),\n",
       " (30, 37),\n",
       " (29, 41),\n",
       " (28, 45),\n",
       " (26, 48),\n",
       " (22, 50),\n",
       " (18, 50),\n",
       " (15, 52),\n",
       " (15, 56)]"
      ]
     },
     "execution_count": 21,
     "metadata": {},
     "output_type": "execute_result"
    }
   ],
   "source": [
    "path"
   ]
  },
  {
   "cell_type": "code",
   "execution_count": 22,
   "metadata": {},
   "outputs": [],
   "source": [
    "def IsPathFound(index, mod=model):\n",
    "    map_file = os.path.dirname(data.true_roi.values[index])\n",
    "    Tasks = pd.read_csv(data_path + map_file + '.csv')\n",
    "    \n",
    "    task_num = int(re.search('task\\_(\\d+)', os.path.basename(data.true_roi.values[index])).group(1))\n",
    "    start = (Tasks.istart[task_num], Tasks.jstart[task_num])\n",
    "    goal = (Tasks.igoal[task_num], Tasks.jgoal[task_num])\n",
    "    \n",
    "    pred_roi = rgb2binary(np.array(Image.open(dataset_path + data.pred_roi[index]).convert('RGB')))\n",
    "    \n",
    "    if any(pred_roi[int(start[0]), int(start[1])] != colors.get('roi')):\n",
    "        pred_roi[int(start[0]), int(start[1])] = colors.get('roi')\n",
    "\n",
    "    if any(pred_roi[int(goal[0]), int(goal[1])] != colors.get('roi')):\n",
    "        pred_roi[int(goal[0]), int(goal[1])] = colors.get('roi')\n",
    "    \n",
    "    mask_grid = np.where(np.sum(pred_roi, axis=2) > 2, 0, 1)\n",
    "    path = mod.search(mask_grid, start, goal, max_iter=40_000, func='cdist')\n",
    "    \n",
    "    return 1 if path else 0\n",
    "    "
   ]
  },
  {
   "cell_type": "code",
   "execution_count": 23,
   "metadata": {},
   "outputs": [
    {
     "data": {
      "application/vnd.jupyter.widget-view+json": {
       "model_id": "8793b7f1c2264274bf851e2fda479bcc",
       "version_major": 2,
       "version_minor": 0
      },
      "text/plain": [
       "HBox(children=(FloatProgress(value=0.0, max=2000.0), HTML(value='')))"
      ]
     },
     "metadata": {},
     "output_type": "display_data"
    },
    {
     "name": "stdout",
     "output_type": "stream",
     "text": [
      "\n"
     ]
    }
   ],
   "source": [
    "r = [IsPathFound(i) for i in tqdm(range(2000))]"
   ]
  },
  {
   "cell_type": "code",
   "execution_count": 24,
   "metadata": {},
   "outputs": [
    {
     "data": {
      "text/plain": [
       "1315"
      ]
     },
     "execution_count": 24,
     "metadata": {},
     "output_type": "execute_result"
    }
   ],
   "source": [
    "np.sum(r)"
   ]
  },
  {
   "cell_type": "code",
   "execution_count": 48,
   "metadata": {},
   "outputs": [],
   "source": [
    "data.insert(6, 'is_path_found', r)\n",
    "data.to_csv(dataset_path + 'results/results_total.csv')"
   ]
  },
  {
   "cell_type": "markdown",
   "metadata": {},
   "source": [
    "### MovingAI"
   ]
  },
  {
   "cell_type": "code",
   "execution_count": 25,
   "metadata": {},
   "outputs": [],
   "source": [
    "dataset_path = './PathGAN/data/dataset/'\n",
    "data_path = './PathGAN/data//dataset/' "
   ]
  },
  {
   "cell_type": "code",
   "execution_count": 26,
   "metadata": {},
   "outputs": [
    {
     "data": {
      "text/html": [
       "<div>\n",
       "<style scoped>\n",
       "    .dataframe tbody tr th:only-of-type {\n",
       "        vertical-align: middle;\n",
       "    }\n",
       "\n",
       "    .dataframe tbody tr th {\n",
       "        vertical-align: top;\n",
       "    }\n",
       "\n",
       "    .dataframe thead th {\n",
       "        text-align: right;\n",
       "    }\n",
       "</style>\n",
       "<table border=\"1\" class=\"dataframe\">\n",
       "  <thead>\n",
       "    <tr style=\"text-align: right;\">\n",
       "      <th></th>\n",
       "      <th>true_roi</th>\n",
       "      <th>pred_roi</th>\n",
       "      <th>iou</th>\n",
       "      <th>dice</th>\n",
       "      <th>fid</th>\n",
       "      <th>is</th>\n",
       "    </tr>\n",
       "  </thead>\n",
       "  <tbody>\n",
       "    <tr>\n",
       "      <th>0</th>\n",
       "      <td>movingai\\tasks\\Aftershock_1\\task_0_roi.png</td>\n",
       "      <td>movingai\\results\\roi_0.png</td>\n",
       "      <td>0.595349</td>\n",
       "      <td>0.746356</td>\n",
       "      <td>79.160278</td>\n",
       "      <td>1.013548</td>\n",
       "    </tr>\n",
       "    <tr>\n",
       "      <th>1</th>\n",
       "      <td>movingai\\tasks\\Aftershock_1\\task_1_roi.png</td>\n",
       "      <td>movingai\\results\\roi_1.png</td>\n",
       "      <td>0.482440</td>\n",
       "      <td>0.650873</td>\n",
       "      <td>66.227379</td>\n",
       "      <td>1.013548</td>\n",
       "    </tr>\n",
       "    <tr>\n",
       "      <th>2</th>\n",
       "      <td>movingai\\tasks\\Aftershock_1\\task_2_roi.png</td>\n",
       "      <td>movingai\\results\\roi_2.png</td>\n",
       "      <td>0.543919</td>\n",
       "      <td>0.704595</td>\n",
       "      <td>83.625259</td>\n",
       "      <td>1.013548</td>\n",
       "    </tr>\n",
       "    <tr>\n",
       "      <th>3</th>\n",
       "      <td>movingai\\tasks\\Aftershock_1\\task_3_roi.png</td>\n",
       "      <td>movingai\\results\\roi_3.png</td>\n",
       "      <td>0.553163</td>\n",
       "      <td>0.712305</td>\n",
       "      <td>102.917053</td>\n",
       "      <td>1.013548</td>\n",
       "    </tr>\n",
       "    <tr>\n",
       "      <th>4</th>\n",
       "      <td>movingai\\tasks\\Aftershock_1\\task_4_roi.png</td>\n",
       "      <td>movingai\\results\\roi_4.png</td>\n",
       "      <td>0.537477</td>\n",
       "      <td>0.699168</td>\n",
       "      <td>77.991684</td>\n",
       "      <td>1.013548</td>\n",
       "    </tr>\n",
       "  </tbody>\n",
       "</table>\n",
       "</div>"
      ],
      "text/plain": [
       "                                     true_roi                    pred_roi  \\\n",
       "0  movingai\\tasks\\Aftershock_1\\task_0_roi.png  movingai\\results\\roi_0.png   \n",
       "1  movingai\\tasks\\Aftershock_1\\task_1_roi.png  movingai\\results\\roi_1.png   \n",
       "2  movingai\\tasks\\Aftershock_1\\task_2_roi.png  movingai\\results\\roi_2.png   \n",
       "3  movingai\\tasks\\Aftershock_1\\task_3_roi.png  movingai\\results\\roi_3.png   \n",
       "4  movingai\\tasks\\Aftershock_1\\task_4_roi.png  movingai\\results\\roi_4.png   \n",
       "\n",
       "        iou      dice         fid        is  \n",
       "0  0.595349  0.746356   79.160278  1.013548  \n",
       "1  0.482440  0.650873   66.227379  1.013548  \n",
       "2  0.543919  0.704595   83.625259  1.013548  \n",
       "3  0.553163  0.712305  102.917053  1.013548  \n",
       "4  0.537477  0.699168   77.991684  1.013548  "
      ]
     },
     "execution_count": 26,
     "metadata": {},
     "output_type": "execute_result"
    }
   ],
   "source": [
    "data = pd.read_csv(dataset_path + 'movingai/results/results.csv')\n",
    "data = data.sort_values(by=\"true_roi\").reset_index(drop=True)\n",
    "data.head()"
   ]
  },
  {
   "cell_type": "code",
   "execution_count": 27,
   "metadata": {},
   "outputs": [
    {
     "data": {
      "text/plain": [
       "(699,)"
      ]
     },
     "execution_count": 27,
     "metadata": {},
     "output_type": "execute_result"
    }
   ],
   "source": [
    "data.true_roi.values.shape"
   ]
  },
  {
   "cell_type": "code",
   "execution_count": 28,
   "metadata": {},
   "outputs": [],
   "source": [
    "map_file = os.path.dirname(data.true_roi.values[0])\n",
    "Tasks = pd.read_csv(data_path + map_file + '.csv')\n",
    "\n",
    "#Map = re.search('\\w*\\_(\\d+)', data.true_roi.values[0]).group(0)\n",
    "Map_img = Image.open( dataset_path + map_file.replace('tasks', 'maps') + '.png').convert('RGB')"
   ]
  },
  {
   "cell_type": "code",
   "execution_count": 29,
   "metadata": {},
   "outputs": [],
   "source": [
    "task_num = int(re.search('task\\_(\\d+)', os.path.basename(data.true_roi.values[0])).group(1))\n",
    "start = (Tasks.istart[task_num], Tasks.jstart[task_num])\n",
    "goal = (Tasks.igoal[task_num], Tasks.jgoal[task_num])"
   ]
  },
  {
   "cell_type": "code",
   "execution_count": 30,
   "metadata": {},
   "outputs": [],
   "source": [
    "pred_roi = rgb2binary(np.array(Image.open(dataset_path + data.pred_roi[0]).convert('RGB')))\n",
    "\n",
    "if any(pred_roi[int(start[0]), int(start[1])] != colors.get('roi')):\n",
    "    pred_roi[int(start[0]), int(start[1])] = colors.get('roi')\n",
    "\n",
    "if any(pred_roi[int(goal[0]), int(goal[1])] != colors.get('roi')):\n",
    "    pred_roi[int(goal[0]), int(goal[1])] = colors.get('roi')"
   ]
  },
  {
   "cell_type": "code",
   "execution_count": 31,
   "metadata": {},
   "outputs": [],
   "source": [
    "mask_grid = np.where(np.sum(pred_roi, axis=2) > 2, 0, 1)\n",
    "path = model.search(mask_grid, start, goal, max_iter=40_000, func='cdist')"
   ]
  },
  {
   "cell_type": "code",
   "execution_count": 32,
   "metadata": {},
   "outputs": [
    {
     "data": {
      "text/plain": [
       "[(52, 17),\n",
       " (48, 16),\n",
       " (46, 19),\n",
       " (43, 22),\n",
       " (42, 26),\n",
       " (38, 25),\n",
       " (36, 29),\n",
       " (34, 32),\n",
       " (34, 36),\n",
       " (32, 40),\n",
       " (28, 39),\n",
       " (24, 41),\n",
       " (22, 44),\n",
       " (18, 45),\n",
       " (14, 45),\n",
       " (12, 48),\n",
       " (9, 51),\n",
       " (9, 55)]"
      ]
     },
     "execution_count": 32,
     "metadata": {},
     "output_type": "execute_result"
    }
   ],
   "source": [
    "path"
   ]
  },
  {
   "cell_type": "code",
   "execution_count": 33,
   "metadata": {},
   "outputs": [
    {
     "data": {
      "application/vnd.jupyter.widget-view+json": {
       "model_id": "02527616469f48e2a67f17090ae1481c",
       "version_major": 2,
       "version_minor": 0
      },
      "text/plain": [
       "HBox(children=(FloatProgress(value=0.0, max=699.0), HTML(value='')))"
      ]
     },
     "metadata": {},
     "output_type": "display_data"
    },
    {
     "name": "stdout",
     "output_type": "stream",
     "text": [
      "\n"
     ]
    }
   ],
   "source": [
    "r1 = [IsPathFound(i) for i in tqdm(range(699))]"
   ]
  },
  {
   "cell_type": "code",
   "execution_count": 34,
   "metadata": {},
   "outputs": [
    {
     "data": {
      "text/plain": [
       "381"
      ]
     },
     "execution_count": 34,
     "metadata": {},
     "output_type": "execute_result"
    }
   ],
   "source": [
    "np.sum(r1)"
   ]
  },
  {
   "cell_type": "code",
   "execution_count": 35,
   "metadata": {},
   "outputs": [
    {
     "data": {
      "text/plain": [
       "0.5450643776824035"
      ]
     },
     "execution_count": 35,
     "metadata": {},
     "output_type": "execute_result"
    }
   ],
   "source": [
    "381/699"
   ]
  },
  {
   "cell_type": "code",
   "execution_count": 42,
   "metadata": {},
   "outputs": [],
   "source": [
    "data.insert(6, 'is_path_found', r1)"
   ]
  },
  {
   "cell_type": "code",
   "execution_count": 43,
   "metadata": {},
   "outputs": [
    {
     "data": {
      "text/html": [
       "<div>\n",
       "<style scoped>\n",
       "    .dataframe tbody tr th:only-of-type {\n",
       "        vertical-align: middle;\n",
       "    }\n",
       "\n",
       "    .dataframe tbody tr th {\n",
       "        vertical-align: top;\n",
       "    }\n",
       "\n",
       "    .dataframe thead th {\n",
       "        text-align: right;\n",
       "    }\n",
       "</style>\n",
       "<table border=\"1\" class=\"dataframe\">\n",
       "  <thead>\n",
       "    <tr style=\"text-align: right;\">\n",
       "      <th></th>\n",
       "      <th>true_roi</th>\n",
       "      <th>pred_roi</th>\n",
       "      <th>iou</th>\n",
       "      <th>dice</th>\n",
       "      <th>fid</th>\n",
       "      <th>is</th>\n",
       "      <th>is_path_found</th>\n",
       "    </tr>\n",
       "  </thead>\n",
       "  <tbody>\n",
       "    <tr>\n",
       "      <th>0</th>\n",
       "      <td>movingai\\tasks\\Aftershock_1\\task_0_roi.png</td>\n",
       "      <td>movingai\\results\\roi_0.png</td>\n",
       "      <td>0.595349</td>\n",
       "      <td>0.746356</td>\n",
       "      <td>79.160278</td>\n",
       "      <td>1.013548</td>\n",
       "      <td>1</td>\n",
       "    </tr>\n",
       "    <tr>\n",
       "      <th>1</th>\n",
       "      <td>movingai\\tasks\\Aftershock_1\\task_1_roi.png</td>\n",
       "      <td>movingai\\results\\roi_1.png</td>\n",
       "      <td>0.482440</td>\n",
       "      <td>0.650873</td>\n",
       "      <td>66.227379</td>\n",
       "      <td>1.013548</td>\n",
       "      <td>1</td>\n",
       "    </tr>\n",
       "    <tr>\n",
       "      <th>2</th>\n",
       "      <td>movingai\\tasks\\Aftershock_1\\task_2_roi.png</td>\n",
       "      <td>movingai\\results\\roi_2.png</td>\n",
       "      <td>0.543919</td>\n",
       "      <td>0.704595</td>\n",
       "      <td>83.625259</td>\n",
       "      <td>1.013548</td>\n",
       "      <td>0</td>\n",
       "    </tr>\n",
       "    <tr>\n",
       "      <th>3</th>\n",
       "      <td>movingai\\tasks\\Aftershock_1\\task_3_roi.png</td>\n",
       "      <td>movingai\\results\\roi_3.png</td>\n",
       "      <td>0.553163</td>\n",
       "      <td>0.712305</td>\n",
       "      <td>102.917053</td>\n",
       "      <td>1.013548</td>\n",
       "      <td>1</td>\n",
       "    </tr>\n",
       "    <tr>\n",
       "      <th>4</th>\n",
       "      <td>movingai\\tasks\\Aftershock_1\\task_4_roi.png</td>\n",
       "      <td>movingai\\results\\roi_4.png</td>\n",
       "      <td>0.537477</td>\n",
       "      <td>0.699168</td>\n",
       "      <td>77.991684</td>\n",
       "      <td>1.013548</td>\n",
       "      <td>1</td>\n",
       "    </tr>\n",
       "    <tr>\n",
       "      <th>...</th>\n",
       "      <td>...</td>\n",
       "      <td>...</td>\n",
       "      <td>...</td>\n",
       "      <td>...</td>\n",
       "      <td>...</td>\n",
       "      <td>...</td>\n",
       "      <td>...</td>\n",
       "    </tr>\n",
       "    <tr>\n",
       "      <th>694</th>\n",
       "      <td>movingai\\tasks\\tranquilpaths_100\\task_5_roi.png</td>\n",
       "      <td>movingai\\results\\roi_657.png</td>\n",
       "      <td>0.245232</td>\n",
       "      <td>0.393873</td>\n",
       "      <td>110.672363</td>\n",
       "      <td>1.013548</td>\n",
       "      <td>0</td>\n",
       "    </tr>\n",
       "    <tr>\n",
       "      <th>695</th>\n",
       "      <td>movingai\\tasks\\tranquilpaths_100\\task_6_roi.png</td>\n",
       "      <td>movingai\\results\\roi_658.png</td>\n",
       "      <td>0.408898</td>\n",
       "      <td>0.580451</td>\n",
       "      <td>54.585545</td>\n",
       "      <td>1.013548</td>\n",
       "      <td>0</td>\n",
       "    </tr>\n",
       "    <tr>\n",
       "      <th>696</th>\n",
       "      <td>movingai\\tasks\\tranquilpaths_100\\task_7_roi.png</td>\n",
       "      <td>movingai\\results\\roi_659.png</td>\n",
       "      <td>0.347909</td>\n",
       "      <td>0.516220</td>\n",
       "      <td>72.645424</td>\n",
       "      <td>1.013548</td>\n",
       "      <td>1</td>\n",
       "    </tr>\n",
       "    <tr>\n",
       "      <th>697</th>\n",
       "      <td>movingai\\tasks\\tranquilpaths_100\\task_8_roi.png</td>\n",
       "      <td>movingai\\results\\roi_660.png</td>\n",
       "      <td>0.394030</td>\n",
       "      <td>0.565310</td>\n",
       "      <td>55.725967</td>\n",
       "      <td>1.013548</td>\n",
       "      <td>0</td>\n",
       "    </tr>\n",
       "    <tr>\n",
       "      <th>698</th>\n",
       "      <td>movingai\\tasks\\tranquilpaths_100\\task_9_roi.png</td>\n",
       "      <td>movingai\\results\\roi_661.png</td>\n",
       "      <td>0.454728</td>\n",
       "      <td>0.625173</td>\n",
       "      <td>73.734543</td>\n",
       "      <td>1.013548</td>\n",
       "      <td>0</td>\n",
       "    </tr>\n",
       "  </tbody>\n",
       "</table>\n",
       "<p>699 rows × 7 columns</p>\n",
       "</div>"
      ],
      "text/plain": [
       "                                            true_roi  \\\n",
       "0         movingai\\tasks\\Aftershock_1\\task_0_roi.png   \n",
       "1         movingai\\tasks\\Aftershock_1\\task_1_roi.png   \n",
       "2         movingai\\tasks\\Aftershock_1\\task_2_roi.png   \n",
       "3         movingai\\tasks\\Aftershock_1\\task_3_roi.png   \n",
       "4         movingai\\tasks\\Aftershock_1\\task_4_roi.png   \n",
       "..                                               ...   \n",
       "694  movingai\\tasks\\tranquilpaths_100\\task_5_roi.png   \n",
       "695  movingai\\tasks\\tranquilpaths_100\\task_6_roi.png   \n",
       "696  movingai\\tasks\\tranquilpaths_100\\task_7_roi.png   \n",
       "697  movingai\\tasks\\tranquilpaths_100\\task_8_roi.png   \n",
       "698  movingai\\tasks\\tranquilpaths_100\\task_9_roi.png   \n",
       "\n",
       "                         pred_roi       iou      dice         fid        is  \\\n",
       "0      movingai\\results\\roi_0.png  0.595349  0.746356   79.160278  1.013548   \n",
       "1      movingai\\results\\roi_1.png  0.482440  0.650873   66.227379  1.013548   \n",
       "2      movingai\\results\\roi_2.png  0.543919  0.704595   83.625259  1.013548   \n",
       "3      movingai\\results\\roi_3.png  0.553163  0.712305  102.917053  1.013548   \n",
       "4      movingai\\results\\roi_4.png  0.537477  0.699168   77.991684  1.013548   \n",
       "..                            ...       ...       ...         ...       ...   \n",
       "694  movingai\\results\\roi_657.png  0.245232  0.393873  110.672363  1.013548   \n",
       "695  movingai\\results\\roi_658.png  0.408898  0.580451   54.585545  1.013548   \n",
       "696  movingai\\results\\roi_659.png  0.347909  0.516220   72.645424  1.013548   \n",
       "697  movingai\\results\\roi_660.png  0.394030  0.565310   55.725967  1.013548   \n",
       "698  movingai\\results\\roi_661.png  0.454728  0.625173   73.734543  1.013548   \n",
       "\n",
       "     is_path_found  \n",
       "0                1  \n",
       "1                1  \n",
       "2                0  \n",
       "3                1  \n",
       "4                1  \n",
       "..             ...  \n",
       "694              0  \n",
       "695              0  \n",
       "696              1  \n",
       "697              0  \n",
       "698              0  \n",
       "\n",
       "[699 rows x 7 columns]"
      ]
     },
     "execution_count": 43,
     "metadata": {},
     "output_type": "execute_result"
    }
   ],
   "source": [
    "data"
   ]
  },
  {
   "cell_type": "code",
   "execution_count": 45,
   "metadata": {},
   "outputs": [],
   "source": [
    "data.to_csv(dataset_path + 'movingai/results/results_total.csv')"
   ]
  },
  {
   "cell_type": "code",
   "execution_count": null,
   "metadata": {},
   "outputs": [],
   "source": []
  }
 ],
 "metadata": {
  "kernelspec": {
   "display_name": "Python 3 (ipykernel)",
   "language": "python",
   "name": "python3"
  },
  "language_info": {
   "codemirror_mode": {
    "name": "ipython",
    "version": 3
   },
   "file_extension": ".py",
   "mimetype": "text/x-python",
   "name": "python",
   "nbconvert_exporter": "python",
   "pygments_lexer": "ipython3",
   "version": "3.9.7"
  }
 },
 "nbformat": 4,
 "nbformat_minor": 4
}
